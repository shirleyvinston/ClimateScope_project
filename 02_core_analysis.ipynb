{
 "cells": [
  {
   "cell_type": "code",
   "execution_count": 1,
   "id": "3df2193c",
   "metadata": {},
   "outputs": [],
   "source": [
    "# Cell 1: imports & small helpers\n",
    "import os, glob\n",
    "import pandas as pd\n",
    "import numpy as np\n",
    "import matplotlib.pyplot as plt\n",
    "import seaborn as sns\n",
    "import plotly.express as px\n",
    "import country_converter as coco\n",
    "\n",
    "sns.set(style=\"whitegrid\")\n",
    "os.makedirs(\"data/processed\", exist_ok=True)\n",
    "os.makedirs(\"outputs/tables\", exist_ok=True)\n",
    "os.makedirs(\"outputs/figures\", exist_ok=True)"
   ]
  },
  {
   "cell_type": "code",
   "execution_count": 4,
   "id": "291173d6",
   "metadata": {},
   "outputs": [
    {
     "name": "stdout",
     "output_type": "stream",
     "text": [
      "Trying to load: \\Users\\cgspl\\Downloads\\ClimateScope_project-main (5)\\ClimateScope_project-main\\data\\raw\\GlobalWeatherRepository.csv\n",
      "Loaded shape: (94901, 41)\n"
     ]
    },
    {
     "data": {
      "text/html": [
       "<div>\n",
       "<style scoped>\n",
       "    .dataframe tbody tr th:only-of-type {\n",
       "        vertical-align: middle;\n",
       "    }\n",
       "\n",
       "    .dataframe tbody tr th {\n",
       "        vertical-align: top;\n",
       "    }\n",
       "\n",
       "    .dataframe thead th {\n",
       "        text-align: right;\n",
       "    }\n",
       "</style>\n",
       "<table border=\"1\" class=\"dataframe\">\n",
       "  <thead>\n",
       "    <tr style=\"text-align: right;\">\n",
       "      <th></th>\n",
       "      <th>country</th>\n",
       "      <th>location_name</th>\n",
       "      <th>latitude</th>\n",
       "      <th>longitude</th>\n",
       "      <th>timezone</th>\n",
       "      <th>last_updated_epoch</th>\n",
       "      <th>last_updated</th>\n",
       "      <th>temperature_celsius</th>\n",
       "      <th>temperature_fahrenheit</th>\n",
       "      <th>condition_text</th>\n",
       "      <th>...</th>\n",
       "      <th>air_quality_PM2.5</th>\n",
       "      <th>air_quality_PM10</th>\n",
       "      <th>air_quality_us-epa-index</th>\n",
       "      <th>air_quality_gb-defra-index</th>\n",
       "      <th>sunrise</th>\n",
       "      <th>sunset</th>\n",
       "      <th>moonrise</th>\n",
       "      <th>moonset</th>\n",
       "      <th>moon_phase</th>\n",
       "      <th>moon_illumination</th>\n",
       "    </tr>\n",
       "  </thead>\n",
       "  <tbody>\n",
       "    <tr>\n",
       "      <th>0</th>\n",
       "      <td>Afghanistan</td>\n",
       "      <td>Kabul</td>\n",
       "      <td>34.52</td>\n",
       "      <td>69.18</td>\n",
       "      <td>Asia/Kabul</td>\n",
       "      <td>1715849100</td>\n",
       "      <td>2024-05-16 13:15</td>\n",
       "      <td>26.6</td>\n",
       "      <td>79.8</td>\n",
       "      <td>Partly Cloudy</td>\n",
       "      <td>...</td>\n",
       "      <td>8.4</td>\n",
       "      <td>26.6</td>\n",
       "      <td>1</td>\n",
       "      <td>1</td>\n",
       "      <td>04:50 AM</td>\n",
       "      <td>06:50 PM</td>\n",
       "      <td>12:12 PM</td>\n",
       "      <td>01:11 AM</td>\n",
       "      <td>Waxing Gibbous</td>\n",
       "      <td>55</td>\n",
       "    </tr>\n",
       "    <tr>\n",
       "      <th>1</th>\n",
       "      <td>Albania</td>\n",
       "      <td>Tirana</td>\n",
       "      <td>41.33</td>\n",
       "      <td>19.82</td>\n",
       "      <td>Europe/Tirane</td>\n",
       "      <td>1715849100</td>\n",
       "      <td>2024-05-16 10:45</td>\n",
       "      <td>19.0</td>\n",
       "      <td>66.2</td>\n",
       "      <td>Partly cloudy</td>\n",
       "      <td>...</td>\n",
       "      <td>1.1</td>\n",
       "      <td>2.0</td>\n",
       "      <td>1</td>\n",
       "      <td>1</td>\n",
       "      <td>05:21 AM</td>\n",
       "      <td>07:54 PM</td>\n",
       "      <td>12:58 PM</td>\n",
       "      <td>02:14 AM</td>\n",
       "      <td>Waxing Gibbous</td>\n",
       "      <td>55</td>\n",
       "    </tr>\n",
       "    <tr>\n",
       "      <th>2</th>\n",
       "      <td>Algeria</td>\n",
       "      <td>Algiers</td>\n",
       "      <td>36.76</td>\n",
       "      <td>3.05</td>\n",
       "      <td>Africa/Algiers</td>\n",
       "      <td>1715849100</td>\n",
       "      <td>2024-05-16 09:45</td>\n",
       "      <td>23.0</td>\n",
       "      <td>73.4</td>\n",
       "      <td>Sunny</td>\n",
       "      <td>...</td>\n",
       "      <td>10.4</td>\n",
       "      <td>18.4</td>\n",
       "      <td>1</td>\n",
       "      <td>1</td>\n",
       "      <td>05:40 AM</td>\n",
       "      <td>07:50 PM</td>\n",
       "      <td>01:15 PM</td>\n",
       "      <td>02:14 AM</td>\n",
       "      <td>Waxing Gibbous</td>\n",
       "      <td>55</td>\n",
       "    </tr>\n",
       "    <tr>\n",
       "      <th>3</th>\n",
       "      <td>Andorra</td>\n",
       "      <td>Andorra La Vella</td>\n",
       "      <td>42.50</td>\n",
       "      <td>1.52</td>\n",
       "      <td>Europe/Andorra</td>\n",
       "      <td>1715849100</td>\n",
       "      <td>2024-05-16 10:45</td>\n",
       "      <td>6.3</td>\n",
       "      <td>43.3</td>\n",
       "      <td>Light drizzle</td>\n",
       "      <td>...</td>\n",
       "      <td>0.7</td>\n",
       "      <td>0.9</td>\n",
       "      <td>1</td>\n",
       "      <td>1</td>\n",
       "      <td>06:31 AM</td>\n",
       "      <td>09:11 PM</td>\n",
       "      <td>02:12 PM</td>\n",
       "      <td>03:31 AM</td>\n",
       "      <td>Waxing Gibbous</td>\n",
       "      <td>55</td>\n",
       "    </tr>\n",
       "    <tr>\n",
       "      <th>4</th>\n",
       "      <td>Angola</td>\n",
       "      <td>Luanda</td>\n",
       "      <td>-8.84</td>\n",
       "      <td>13.23</td>\n",
       "      <td>Africa/Luanda</td>\n",
       "      <td>1715849100</td>\n",
       "      <td>2024-05-16 09:45</td>\n",
       "      <td>26.0</td>\n",
       "      <td>78.8</td>\n",
       "      <td>Partly cloudy</td>\n",
       "      <td>...</td>\n",
       "      <td>183.4</td>\n",
       "      <td>262.3</td>\n",
       "      <td>5</td>\n",
       "      <td>10</td>\n",
       "      <td>06:12 AM</td>\n",
       "      <td>05:55 PM</td>\n",
       "      <td>01:17 PM</td>\n",
       "      <td>12:38 AM</td>\n",
       "      <td>Waxing Gibbous</td>\n",
       "      <td>55</td>\n",
       "    </tr>\n",
       "  </tbody>\n",
       "</table>\n",
       "<p>5 rows × 41 columns</p>\n",
       "</div>"
      ],
      "text/plain": [
       "       country     location_name  latitude  longitude        timezone  \\\n",
       "0  Afghanistan             Kabul     34.52      69.18      Asia/Kabul   \n",
       "1      Albania            Tirana     41.33      19.82   Europe/Tirane   \n",
       "2      Algeria           Algiers     36.76       3.05  Africa/Algiers   \n",
       "3      Andorra  Andorra La Vella     42.50       1.52  Europe/Andorra   \n",
       "4       Angola            Luanda     -8.84      13.23   Africa/Luanda   \n",
       "\n",
       "   last_updated_epoch      last_updated  temperature_celsius  \\\n",
       "0          1715849100  2024-05-16 13:15                 26.6   \n",
       "1          1715849100  2024-05-16 10:45                 19.0   \n",
       "2          1715849100  2024-05-16 09:45                 23.0   \n",
       "3          1715849100  2024-05-16 10:45                  6.3   \n",
       "4          1715849100  2024-05-16 09:45                 26.0   \n",
       "\n",
       "   temperature_fahrenheit condition_text  ...  air_quality_PM2.5  \\\n",
       "0                    79.8  Partly Cloudy  ...                8.4   \n",
       "1                    66.2  Partly cloudy  ...                1.1   \n",
       "2                    73.4          Sunny  ...               10.4   \n",
       "3                    43.3  Light drizzle  ...                0.7   \n",
       "4                    78.8  Partly cloudy  ...              183.4   \n",
       "\n",
       "   air_quality_PM10  air_quality_us-epa-index air_quality_gb-defra-index  \\\n",
       "0              26.6                         1                          1   \n",
       "1               2.0                         1                          1   \n",
       "2              18.4                         1                          1   \n",
       "3               0.9                         1                          1   \n",
       "4             262.3                         5                         10   \n",
       "\n",
       "    sunrise    sunset  moonrise   moonset      moon_phase  moon_illumination  \n",
       "0  04:50 AM  06:50 PM  12:12 PM  01:11 AM  Waxing Gibbous                 55  \n",
       "1  05:21 AM  07:54 PM  12:58 PM  02:14 AM  Waxing Gibbous                 55  \n",
       "2  05:40 AM  07:50 PM  01:15 PM  02:14 AM  Waxing Gibbous                 55  \n",
       "3  06:31 AM  09:11 PM  02:12 PM  03:31 AM  Waxing Gibbous                 55  \n",
       "4  06:12 AM  05:55 PM  01:17 PM  12:38 AM  Waxing Gibbous                 55  \n",
       "\n",
       "[5 rows x 41 columns]"
      ]
     },
     "execution_count": 4,
     "metadata": {},
     "output_type": "execute_result"
    }
   ],
   "source": [
    "# Cell 2: load dataset\n",
    "path=r\"\\Users\\cgspl\\Downloads\\ClimateScope_project-main (5)\\ClimateScope_project-main\\data\\raw\\GlobalWeatherRepository.csv\"\n",
    "print(\"Trying to load:\", path)\n",
    "df = pd.read_csv(path)\n",
    "print(\"Loaded shape:\", df.shape)\n",
    "df.head()"
   ]
  },
  {
   "cell_type": "code",
   "execution_count": 5,
   "id": "9ef55338",
   "metadata": {},
   "outputs": [
    {
     "name": "stdout",
     "output_type": "stream",
     "text": [
      "Date candidates: ['timezone', 'last_updated_epoch', 'last_updated']\n"
     ]
    },
    {
     "data": {
      "text/html": [
       "<div>\n",
       "<style scoped>\n",
       "    .dataframe tbody tr th:only-of-type {\n",
       "        vertical-align: middle;\n",
       "    }\n",
       "\n",
       "    .dataframe tbody tr th {\n",
       "        vertical-align: top;\n",
       "    }\n",
       "\n",
       "    .dataframe thead th {\n",
       "        text-align: right;\n",
       "    }\n",
       "</style>\n",
       "<table border=\"1\" class=\"dataframe\">\n",
       "  <thead>\n",
       "    <tr style=\"text-align: right;\">\n",
       "      <th></th>\n",
       "      <th>last_updated</th>\n",
       "      <th>year</th>\n",
       "      <th>month</th>\n",
       "    </tr>\n",
       "  </thead>\n",
       "  <tbody>\n",
       "    <tr>\n",
       "      <th>0</th>\n",
       "      <td>2024-05-16 13:15:00</td>\n",
       "      <td>2024</td>\n",
       "      <td>5</td>\n",
       "    </tr>\n",
       "    <tr>\n",
       "      <th>1</th>\n",
       "      <td>2024-05-16 10:45:00</td>\n",
       "      <td>2024</td>\n",
       "      <td>5</td>\n",
       "    </tr>\n",
       "    <tr>\n",
       "      <th>2</th>\n",
       "      <td>2024-05-16 09:45:00</td>\n",
       "      <td>2024</td>\n",
       "      <td>5</td>\n",
       "    </tr>\n",
       "    <tr>\n",
       "      <th>3</th>\n",
       "      <td>2024-05-16 10:45:00</td>\n",
       "      <td>2024</td>\n",
       "      <td>5</td>\n",
       "    </tr>\n",
       "    <tr>\n",
       "      <th>4</th>\n",
       "      <td>2024-05-16 09:45:00</td>\n",
       "      <td>2024</td>\n",
       "      <td>5</td>\n",
       "    </tr>\n",
       "  </tbody>\n",
       "</table>\n",
       "</div>"
      ],
      "text/plain": [
       "         last_updated  year  month\n",
       "0 2024-05-16 13:15:00  2024      5\n",
       "1 2024-05-16 10:45:00  2024      5\n",
       "2 2024-05-16 09:45:00  2024      5\n",
       "3 2024-05-16 10:45:00  2024      5\n",
       "4 2024-05-16 09:45:00  2024      5"
      ]
     },
     "execution_count": 5,
     "metadata": {},
     "output_type": "execute_result"
    }
   ],
   "source": [
    "# Cell 3: find candidate date columns and parse one\n",
    "candidates = [c for c in df.columns if 'date' in c.lower() or 'time' in c.lower() or 'last' in c.lower()]\n",
    "print(\"Date candidates:\", candidates)\n",
    "\n",
    "# common default column names; change if your filename uses something else\n",
    "if 'last_updated' in df.columns:\n",
    "    df['last_updated'] = pd.to_datetime(df['last_updated'], errors='coerce')\n",
    "elif candidates:\n",
    "    df[candidates[0]] = pd.to_datetime(df[candidates[0]], errors='coerce')\n",
    "    df.rename(columns={candidates[0]:'last_updated'}, inplace=True)\n",
    "else:\n",
    "    print(\"No date column auto-detected — you will need to create one or check column names:\", df.columns)\n",
    "\n",
    "# create year/month/day for aggregation\n",
    "df['year'] = df['last_updated'].dt.year\n",
    "df['month'] = df['last_updated'].dt.month\n",
    "df['day'] = df['last_updated'].dt.day\n",
    "df[['last_updated','year','month']].head()\n"
   ]
  },
  {
   "cell_type": "code",
   "execution_count": 6,
   "id": "2d1c258b",
   "metadata": {},
   "outputs": [
    {
     "name": "stdout",
     "output_type": "stream",
     "text": [
      "Top missing columns (percent):\n",
      " wind_direction            100.0\n",
      "country                     0.0\n",
      "latitude                    0.0\n",
      "location_name               0.0\n",
      "timezone                    0.0\n",
      "last_updated_epoch          0.0\n",
      "last_updated                0.0\n",
      "temperature_celsius         0.0\n",
      "temperature_fahrenheit      0.0\n",
      "condition_text              0.0\n",
      "wind_mph                    0.0\n",
      "longitude                   0.0\n",
      "wind_kph                    0.0\n",
      "wind_degree                 0.0\n",
      "pressure_mb                 0.0\n",
      "pressure_in                 0.0\n",
      "precip_mm                   0.0\n",
      "precip_in                   0.0\n",
      "humidity                    0.0\n",
      "cloud                       0.0\n",
      "dtype: float64\n",
      "\n",
      "Numeric columns used for analysis: ['air_quality_Carbon_Monoxide', 'air_quality_Nitrogen_dioxide', 'air_quality_Ozone', 'air_quality_PM10', 'air_quality_PM2.5', 'air_quality_Sulphur_dioxide', 'air_quality_gb-defra-index', 'air_quality_us-epa-index', 'cloud', 'day', 'feels_like_celsius', 'feels_like_fahrenheit', 'gust_kph', 'gust_mph', 'humidity', 'last_updated_epoch', 'latitude', 'longitude', 'month', 'moon_illumination', 'precip_in', 'precip_mm', 'pressure_in', 'pressure_mb', 'temperature_celsius', 'temperature_fahrenheit', 'uv_index', 'visibility_km', 'visibility_miles', 'wind_degree', 'wind_direction', 'wind_kph', 'wind_mph', 'year']\n"
     ]
    }
   ],
   "source": [
    "# Cell 4: coerce numeric columns & report missingness\n",
    "# heuristics: numeric-like column names\n",
    "num_guess = [c for c in df.columns if any(k in c.lower() for k in ['temp','precip','humid','wind','speed','pressure'])]\n",
    "# also include actual numeric dtypes\n",
    "num_cols = list(df.select_dtypes(include=[np.number]).columns.union(num_guess))\n",
    "# coerce guessed numeric columns\n",
    "for c in num_cols:\n",
    "    df[c] = pd.to_numeric(df[c], errors='coerce')\n",
    "\n",
    "missing_pct = (df.isna().mean() * 100).sort_values(ascending=False)\n",
    "print(\"Top missing columns (percent):\\n\", missing_pct.head(20))\n",
    "print(\"\\nNumeric columns used for analysis:\", num_cols)\n"
   ]
  },
  {
   "cell_type": "code",
   "execution_count": 7,
   "id": "42c7eeaf",
   "metadata": {},
   "outputs": [
    {
     "name": "stdout",
     "output_type": "stream",
     "text": [
      "Saved cleaned snapshot to: data/processed/cleaned_dataset_for_milestone2.csv\n"
     ]
    }
   ],
   "source": [
    "# Cell 5: save cleaned snapshot for Milestone 2\n",
    "clean_path = \"data/processed/cleaned_dataset_for_milestone2.csv\"\n",
    "df.to_csv(clean_path, index=False)\n",
    "print(\"Saved cleaned snapshot to:\", clean_path)\n"
   ]
  },
  {
   "cell_type": "code",
   "execution_count": 8,
   "id": "a4306131",
   "metadata": {},
   "outputs": [
    {
     "data": {
      "text/html": [
       "<div>\n",
       "<style scoped>\n",
       "    .dataframe tbody tr th:only-of-type {\n",
       "        vertical-align: middle;\n",
       "    }\n",
       "\n",
       "    .dataframe tbody tr th {\n",
       "        vertical-align: top;\n",
       "    }\n",
       "\n",
       "    .dataframe thead th {\n",
       "        text-align: right;\n",
       "    }\n",
       "</style>\n",
       "<table border=\"1\" class=\"dataframe\">\n",
       "  <thead>\n",
       "    <tr style=\"text-align: right;\">\n",
       "      <th></th>\n",
       "      <th>count</th>\n",
       "      <th>mean</th>\n",
       "      <th>std</th>\n",
       "      <th>min</th>\n",
       "      <th>25%</th>\n",
       "      <th>50%</th>\n",
       "      <th>75%</th>\n",
       "      <th>max</th>\n",
       "      <th>missing_pct</th>\n",
       "    </tr>\n",
       "  </thead>\n",
       "  <tbody>\n",
       "    <tr>\n",
       "      <th>air_quality_Carbon_Monoxide</th>\n",
       "      <td>94901.0</td>\n",
       "      <td>5.170040e+02</td>\n",
       "      <td>8.468620e+02</td>\n",
       "      <td>-9.999000e+03</td>\n",
       "      <td>2.370000e+02</td>\n",
       "      <td>3.274500e+02</td>\n",
       "      <td>5.069000e+02</td>\n",
       "      <td>3.887940e+04</td>\n",
       "      <td>0.0</td>\n",
       "    </tr>\n",
       "    <tr>\n",
       "      <th>air_quality_Nitrogen_dioxide</th>\n",
       "      <td>94901.0</td>\n",
       "      <td>1.570700e+01</td>\n",
       "      <td>2.601800e+01</td>\n",
       "      <td>0.000000e+00</td>\n",
       "      <td>1.295000e+00</td>\n",
       "      <td>4.810000e+00</td>\n",
       "      <td>1.776000e+01</td>\n",
       "      <td>4.277000e+02</td>\n",
       "      <td>0.0</td>\n",
       "    </tr>\n",
       "    <tr>\n",
       "      <th>air_quality_Ozone</th>\n",
       "      <td>94901.0</td>\n",
       "      <td>6.309500e+01</td>\n",
       "      <td>3.243800e+01</td>\n",
       "      <td>0.000000e+00</td>\n",
       "      <td>4.200000e+01</td>\n",
       "      <td>6.000000e+01</td>\n",
       "      <td>8.000000e+01</td>\n",
       "      <td>4.807000e+02</td>\n",
       "      <td>0.0</td>\n",
       "    </tr>\n",
       "    <tr>\n",
       "      <th>air_quality_PM10</th>\n",
       "      <td>94901.0</td>\n",
       "      <td>5.396700e+01</td>\n",
       "      <td>1.647820e+02</td>\n",
       "      <td>-1.848150e+03</td>\n",
       "      <td>1.073000e+01</td>\n",
       "      <td>2.220000e+01</td>\n",
       "      <td>4.630000e+01</td>\n",
       "      <td>6.037290e+03</td>\n",
       "      <td>0.0</td>\n",
       "    </tr>\n",
       "    <tr>\n",
       "      <th>air_quality_PM2.5</th>\n",
       "      <td>94901.0</td>\n",
       "      <td>2.618900e+01</td>\n",
       "      <td>4.101300e+01</td>\n",
       "      <td>1.680000e-01</td>\n",
       "      <td>7.400000e+00</td>\n",
       "      <td>1.517000e+01</td>\n",
       "      <td>2.997000e+01</td>\n",
       "      <td>1.614100e+03</td>\n",
       "      <td>0.0</td>\n",
       "    </tr>\n",
       "    <tr>\n",
       "      <th>air_quality_Sulphur_dioxide</th>\n",
       "      <td>94901.0</td>\n",
       "      <td>1.128800e+01</td>\n",
       "      <td>4.120300e+01</td>\n",
       "      <td>-9.999000e+03</td>\n",
       "      <td>8.000000e-01</td>\n",
       "      <td>2.405000e+00</td>\n",
       "      <td>9.065000e+00</td>\n",
       "      <td>5.213300e+02</td>\n",
       "      <td>0.0</td>\n",
       "    </tr>\n",
       "    <tr>\n",
       "      <th>air_quality_gb-defra-index</th>\n",
       "      <td>94901.0</td>\n",
       "      <td>2.765000e+00</td>\n",
       "      <td>2.574000e+00</td>\n",
       "      <td>1.000000e+00</td>\n",
       "      <td>1.000000e+00</td>\n",
       "      <td>2.000000e+00</td>\n",
       "      <td>3.000000e+00</td>\n",
       "      <td>1.000000e+01</td>\n",
       "      <td>0.0</td>\n",
       "    </tr>\n",
       "    <tr>\n",
       "      <th>air_quality_us-epa-index</th>\n",
       "      <td>94901.0</td>\n",
       "      <td>1.761000e+00</td>\n",
       "      <td>9.830000e-01</td>\n",
       "      <td>1.000000e+00</td>\n",
       "      <td>1.000000e+00</td>\n",
       "      <td>1.000000e+00</td>\n",
       "      <td>2.000000e+00</td>\n",
       "      <td>6.000000e+00</td>\n",
       "      <td>0.0</td>\n",
       "    </tr>\n",
       "    <tr>\n",
       "      <th>cloud</th>\n",
       "      <td>94901.0</td>\n",
       "      <td>3.934800e+01</td>\n",
       "      <td>3.375100e+01</td>\n",
       "      <td>0.000000e+00</td>\n",
       "      <td>0.000000e+00</td>\n",
       "      <td>2.600000e+01</td>\n",
       "      <td>7.500000e+01</td>\n",
       "      <td>1.000000e+02</td>\n",
       "      <td>0.0</td>\n",
       "    </tr>\n",
       "    <tr>\n",
       "      <th>day</th>\n",
       "      <td>94901.0</td>\n",
       "      <td>1.574000e+01</td>\n",
       "      <td>8.811000e+00</td>\n",
       "      <td>1.000000e+00</td>\n",
       "      <td>8.000000e+00</td>\n",
       "      <td>1.600000e+01</td>\n",
       "      <td>2.300000e+01</td>\n",
       "      <td>3.100000e+01</td>\n",
       "      <td>0.0</td>\n",
       "    </tr>\n",
       "    <tr>\n",
       "      <th>feels_like_celsius</th>\n",
       "      <td>94901.0</td>\n",
       "      <td>2.382800e+01</td>\n",
       "      <td>1.065200e+01</td>\n",
       "      <td>-3.560000e+01</td>\n",
       "      <td>1.810000e+01</td>\n",
       "      <td>2.600000e+01</td>\n",
       "      <td>3.080000e+01</td>\n",
       "      <td>5.120000e+01</td>\n",
       "      <td>0.0</td>\n",
       "    </tr>\n",
       "    <tr>\n",
       "      <th>feels_like_fahrenheit</th>\n",
       "      <td>94901.0</td>\n",
       "      <td>7.488400e+01</td>\n",
       "      <td>1.917100e+01</td>\n",
       "      <td>-3.210000e+01</td>\n",
       "      <td>6.460000e+01</td>\n",
       "      <td>7.880000e+01</td>\n",
       "      <td>8.750000e+01</td>\n",
       "      <td>1.242000e+02</td>\n",
       "      <td>0.0</td>\n",
       "    </tr>\n",
       "    <tr>\n",
       "      <th>gust_kph</th>\n",
       "      <td>94901.0</td>\n",
       "      <td>1.861100e+01</td>\n",
       "      <td>1.478200e+01</td>\n",
       "      <td>3.600000e+00</td>\n",
       "      <td>1.060000e+01</td>\n",
       "      <td>1.590000e+01</td>\n",
       "      <td>2.460000e+01</td>\n",
       "      <td>2.970400e+03</td>\n",
       "      <td>0.0</td>\n",
       "    </tr>\n",
       "    <tr>\n",
       "      <th>gust_mph</th>\n",
       "      <td>94901.0</td>\n",
       "      <td>1.156300e+01</td>\n",
       "      <td>9.185000e+00</td>\n",
       "      <td>2.200000e+00</td>\n",
       "      <td>6.600000e+00</td>\n",
       "      <td>9.900000e+00</td>\n",
       "      <td>1.530000e+01</td>\n",
       "      <td>1.845700e+03</td>\n",
       "      <td>0.0</td>\n",
       "    </tr>\n",
       "    <tr>\n",
       "      <th>humidity</th>\n",
       "      <td>94901.0</td>\n",
       "      <td>6.401800e+01</td>\n",
       "      <td>2.421500e+01</td>\n",
       "      <td>2.000000e+00</td>\n",
       "      <td>4.700000e+01</td>\n",
       "      <td>6.900000e+01</td>\n",
       "      <td>8.300000e+01</td>\n",
       "      <td>1.000000e+02</td>\n",
       "      <td>0.0</td>\n",
       "    </tr>\n",
       "    <tr>\n",
       "      <th>last_updated_epoch</th>\n",
       "      <td>94901.0</td>\n",
       "      <td>1.736979e+09</td>\n",
       "      <td>1.219912e+07</td>\n",
       "      <td>1.715849e+09</td>\n",
       "      <td>1.726484e+09</td>\n",
       "      <td>1.737022e+09</td>\n",
       "      <td>1.747558e+09</td>\n",
       "      <td>1.758010e+09</td>\n",
       "      <td>0.0</td>\n",
       "    </tr>\n",
       "    <tr>\n",
       "      <th>latitude</th>\n",
       "      <td>94901.0</td>\n",
       "      <td>1.914000e+01</td>\n",
       "      <td>2.446200e+01</td>\n",
       "      <td>-4.130000e+01</td>\n",
       "      <td>3.750000e+00</td>\n",
       "      <td>1.725000e+01</td>\n",
       "      <td>4.040000e+01</td>\n",
       "      <td>6.415000e+01</td>\n",
       "      <td>0.0</td>\n",
       "    </tr>\n",
       "    <tr>\n",
       "      <th>longitude</th>\n",
       "      <td>94901.0</td>\n",
       "      <td>2.213100e+01</td>\n",
       "      <td>6.582400e+01</td>\n",
       "      <td>-1.752000e+02</td>\n",
       "      <td>-6.836000e+00</td>\n",
       "      <td>2.331700e+01</td>\n",
       "      <td>5.058000e+01</td>\n",
       "      <td>1.792200e+02</td>\n",
       "      <td>0.0</td>\n",
       "    </tr>\n",
       "    <tr>\n",
       "      <th>month</th>\n",
       "      <td>94901.0</td>\n",
       "      <td>6.644000e+00</td>\n",
       "      <td>3.054000e+00</td>\n",
       "      <td>1.000000e+00</td>\n",
       "      <td>5.000000e+00</td>\n",
       "      <td>7.000000e+00</td>\n",
       "      <td>9.000000e+00</td>\n",
       "      <td>1.200000e+01</td>\n",
       "      <td>0.0</td>\n",
       "    </tr>\n",
       "    <tr>\n",
       "      <th>moon_illumination</th>\n",
       "      <td>94901.0</td>\n",
       "      <td>5.066900e+01</td>\n",
       "      <td>3.498800e+01</td>\n",
       "      <td>0.000000e+00</td>\n",
       "      <td>1.600000e+01</td>\n",
       "      <td>5.200000e+01</td>\n",
       "      <td>8.500000e+01</td>\n",
       "      <td>1.000000e+02</td>\n",
       "      <td>0.0</td>\n",
       "    </tr>\n",
       "    <tr>\n",
       "      <th>precip_in</th>\n",
       "      <td>94901.0</td>\n",
       "      <td>5.000000e-03</td>\n",
       "      <td>2.400000e-02</td>\n",
       "      <td>0.000000e+00</td>\n",
       "      <td>0.000000e+00</td>\n",
       "      <td>0.000000e+00</td>\n",
       "      <td>0.000000e+00</td>\n",
       "      <td>1.660000e+00</td>\n",
       "      <td>0.0</td>\n",
       "    </tr>\n",
       "    <tr>\n",
       "      <th>precip_mm</th>\n",
       "      <td>94901.0</td>\n",
       "      <td>1.410000e-01</td>\n",
       "      <td>6.030000e-01</td>\n",
       "      <td>0.000000e+00</td>\n",
       "      <td>0.000000e+00</td>\n",
       "      <td>0.000000e+00</td>\n",
       "      <td>3.000000e-02</td>\n",
       "      <td>4.224000e+01</td>\n",
       "      <td>0.0</td>\n",
       "    </tr>\n",
       "    <tr>\n",
       "      <th>pressure_in</th>\n",
       "      <td>94901.0</td>\n",
       "      <td>2.994100e+01</td>\n",
       "      <td>3.390000e-01</td>\n",
       "      <td>2.796000e+01</td>\n",
       "      <td>2.983000e+01</td>\n",
       "      <td>2.992000e+01</td>\n",
       "      <td>3.004000e+01</td>\n",
       "      <td>8.877000e+01</td>\n",
       "      <td>0.0</td>\n",
       "    </tr>\n",
       "    <tr>\n",
       "      <th>pressure_mb</th>\n",
       "      <td>94901.0</td>\n",
       "      <td>1.013933e+03</td>\n",
       "      <td>1.148300e+01</td>\n",
       "      <td>9.470000e+02</td>\n",
       "      <td>1.010000e+03</td>\n",
       "      <td>1.013000e+03</td>\n",
       "      <td>1.017000e+03</td>\n",
       "      <td>3.006000e+03</td>\n",
       "      <td>0.0</td>\n",
       "    </tr>\n",
       "    <tr>\n",
       "      <th>temperature_celsius</th>\n",
       "      <td>94901.0</td>\n",
       "      <td>2.278900e+01</td>\n",
       "      <td>8.942000e+00</td>\n",
       "      <td>-2.490000e+01</td>\n",
       "      <td>1.810000e+01</td>\n",
       "      <td>2.500000e+01</td>\n",
       "      <td>2.830000e+01</td>\n",
       "      <td>4.920000e+01</td>\n",
       "      <td>0.0</td>\n",
       "    </tr>\n",
       "    <tr>\n",
       "      <th>temperature_fahrenheit</th>\n",
       "      <td>94901.0</td>\n",
       "      <td>7.302300e+01</td>\n",
       "      <td>1.609500e+01</td>\n",
       "      <td>-1.280000e+01</td>\n",
       "      <td>6.460000e+01</td>\n",
       "      <td>7.700000e+01</td>\n",
       "      <td>8.300000e+01</td>\n",
       "      <td>1.206000e+02</td>\n",
       "      <td>0.0</td>\n",
       "    </tr>\n",
       "    <tr>\n",
       "      <th>uv_index</th>\n",
       "      <td>94901.0</td>\n",
       "      <td>3.916000e+00</td>\n",
       "      <td>3.622000e+00</td>\n",
       "      <td>0.000000e+00</td>\n",
       "      <td>6.000000e-01</td>\n",
       "      <td>3.100000e+00</td>\n",
       "      <td>7.000000e+00</td>\n",
       "      <td>1.630000e+01</td>\n",
       "      <td>0.0</td>\n",
       "    </tr>\n",
       "    <tr>\n",
       "      <th>visibility_km</th>\n",
       "      <td>94901.0</td>\n",
       "      <td>9.637000e+00</td>\n",
       "      <td>2.520000e+00</td>\n",
       "      <td>0.000000e+00</td>\n",
       "      <td>1.000000e+01</td>\n",
       "      <td>1.000000e+01</td>\n",
       "      <td>1.000000e+01</td>\n",
       "      <td>3.200000e+01</td>\n",
       "      <td>0.0</td>\n",
       "    </tr>\n",
       "    <tr>\n",
       "      <th>visibility_miles</th>\n",
       "      <td>94901.0</td>\n",
       "      <td>5.705000e+00</td>\n",
       "      <td>1.566000e+00</td>\n",
       "      <td>0.000000e+00</td>\n",
       "      <td>6.000000e+00</td>\n",
       "      <td>6.000000e+00</td>\n",
       "      <td>6.000000e+00</td>\n",
       "      <td>1.900000e+01</td>\n",
       "      <td>0.0</td>\n",
       "    </tr>\n",
       "    <tr>\n",
       "      <th>wind_degree</th>\n",
       "      <td>94901.0</td>\n",
       "      <td>1.709710e+02</td>\n",
       "      <td>1.027670e+02</td>\n",
       "      <td>1.000000e+00</td>\n",
       "      <td>8.300000e+01</td>\n",
       "      <td>1.650000e+02</td>\n",
       "      <td>2.560000e+02</td>\n",
       "      <td>3.600000e+02</td>\n",
       "      <td>0.0</td>\n",
       "    </tr>\n",
       "    <tr>\n",
       "      <th>wind_direction</th>\n",
       "      <td>0.0</td>\n",
       "      <td>NaN</td>\n",
       "      <td>NaN</td>\n",
       "      <td>NaN</td>\n",
       "      <td>NaN</td>\n",
       "      <td>NaN</td>\n",
       "      <td>NaN</td>\n",
       "      <td>NaN</td>\n",
       "      <td>100.0</td>\n",
       "    </tr>\n",
       "    <tr>\n",
       "      <th>wind_kph</th>\n",
       "      <td>94901.0</td>\n",
       "      <td>1.329200e+01</td>\n",
       "      <td>1.278500e+01</td>\n",
       "      <td>3.600000e+00</td>\n",
       "      <td>6.500000e+00</td>\n",
       "      <td>1.120000e+01</td>\n",
       "      <td>1.840000e+01</td>\n",
       "      <td>2.963200e+03</td>\n",
       "      <td>0.0</td>\n",
       "    </tr>\n",
       "    <tr>\n",
       "      <th>wind_mph</th>\n",
       "      <td>94901.0</td>\n",
       "      <td>8.257000e+00</td>\n",
       "      <td>7.946000e+00</td>\n",
       "      <td>2.200000e+00</td>\n",
       "      <td>4.000000e+00</td>\n",
       "      <td>6.900000e+00</td>\n",
       "      <td>1.140000e+01</td>\n",
       "      <td>1.841200e+03</td>\n",
       "      <td>0.0</td>\n",
       "    </tr>\n",
       "    <tr>\n",
       "      <th>year</th>\n",
       "      <td>94901.0</td>\n",
       "      <td>2.024531e+03</td>\n",
       "      <td>4.990000e-01</td>\n",
       "      <td>2.024000e+03</td>\n",
       "      <td>2.024000e+03</td>\n",
       "      <td>2.025000e+03</td>\n",
       "      <td>2.025000e+03</td>\n",
       "      <td>2.025000e+03</td>\n",
       "      <td>0.0</td>\n",
       "    </tr>\n",
       "  </tbody>\n",
       "</table>\n",
       "</div>"
      ],
      "text/plain": [
       "                                count          mean           std  \\\n",
       "air_quality_Carbon_Monoxide   94901.0  5.170040e+02  8.468620e+02   \n",
       "air_quality_Nitrogen_dioxide  94901.0  1.570700e+01  2.601800e+01   \n",
       "air_quality_Ozone             94901.0  6.309500e+01  3.243800e+01   \n",
       "air_quality_PM10              94901.0  5.396700e+01  1.647820e+02   \n",
       "air_quality_PM2.5             94901.0  2.618900e+01  4.101300e+01   \n",
       "air_quality_Sulphur_dioxide   94901.0  1.128800e+01  4.120300e+01   \n",
       "air_quality_gb-defra-index    94901.0  2.765000e+00  2.574000e+00   \n",
       "air_quality_us-epa-index      94901.0  1.761000e+00  9.830000e-01   \n",
       "cloud                         94901.0  3.934800e+01  3.375100e+01   \n",
       "day                           94901.0  1.574000e+01  8.811000e+00   \n",
       "feels_like_celsius            94901.0  2.382800e+01  1.065200e+01   \n",
       "feels_like_fahrenheit         94901.0  7.488400e+01  1.917100e+01   \n",
       "gust_kph                      94901.0  1.861100e+01  1.478200e+01   \n",
       "gust_mph                      94901.0  1.156300e+01  9.185000e+00   \n",
       "humidity                      94901.0  6.401800e+01  2.421500e+01   \n",
       "last_updated_epoch            94901.0  1.736979e+09  1.219912e+07   \n",
       "latitude                      94901.0  1.914000e+01  2.446200e+01   \n",
       "longitude                     94901.0  2.213100e+01  6.582400e+01   \n",
       "month                         94901.0  6.644000e+00  3.054000e+00   \n",
       "moon_illumination             94901.0  5.066900e+01  3.498800e+01   \n",
       "precip_in                     94901.0  5.000000e-03  2.400000e-02   \n",
       "precip_mm                     94901.0  1.410000e-01  6.030000e-01   \n",
       "pressure_in                   94901.0  2.994100e+01  3.390000e-01   \n",
       "pressure_mb                   94901.0  1.013933e+03  1.148300e+01   \n",
       "temperature_celsius           94901.0  2.278900e+01  8.942000e+00   \n",
       "temperature_fahrenheit        94901.0  7.302300e+01  1.609500e+01   \n",
       "uv_index                      94901.0  3.916000e+00  3.622000e+00   \n",
       "visibility_km                 94901.0  9.637000e+00  2.520000e+00   \n",
       "visibility_miles              94901.0  5.705000e+00  1.566000e+00   \n",
       "wind_degree                   94901.0  1.709710e+02  1.027670e+02   \n",
       "wind_direction                    0.0           NaN           NaN   \n",
       "wind_kph                      94901.0  1.329200e+01  1.278500e+01   \n",
       "wind_mph                      94901.0  8.257000e+00  7.946000e+00   \n",
       "year                          94901.0  2.024531e+03  4.990000e-01   \n",
       "\n",
       "                                       min           25%           50%  \\\n",
       "air_quality_Carbon_Monoxide  -9.999000e+03  2.370000e+02  3.274500e+02   \n",
       "air_quality_Nitrogen_dioxide  0.000000e+00  1.295000e+00  4.810000e+00   \n",
       "air_quality_Ozone             0.000000e+00  4.200000e+01  6.000000e+01   \n",
       "air_quality_PM10             -1.848150e+03  1.073000e+01  2.220000e+01   \n",
       "air_quality_PM2.5             1.680000e-01  7.400000e+00  1.517000e+01   \n",
       "air_quality_Sulphur_dioxide  -9.999000e+03  8.000000e-01  2.405000e+00   \n",
       "air_quality_gb-defra-index    1.000000e+00  1.000000e+00  2.000000e+00   \n",
       "air_quality_us-epa-index      1.000000e+00  1.000000e+00  1.000000e+00   \n",
       "cloud                         0.000000e+00  0.000000e+00  2.600000e+01   \n",
       "day                           1.000000e+00  8.000000e+00  1.600000e+01   \n",
       "feels_like_celsius           -3.560000e+01  1.810000e+01  2.600000e+01   \n",
       "feels_like_fahrenheit        -3.210000e+01  6.460000e+01  7.880000e+01   \n",
       "gust_kph                      3.600000e+00  1.060000e+01  1.590000e+01   \n",
       "gust_mph                      2.200000e+00  6.600000e+00  9.900000e+00   \n",
       "humidity                      2.000000e+00  4.700000e+01  6.900000e+01   \n",
       "last_updated_epoch            1.715849e+09  1.726484e+09  1.737022e+09   \n",
       "latitude                     -4.130000e+01  3.750000e+00  1.725000e+01   \n",
       "longitude                    -1.752000e+02 -6.836000e+00  2.331700e+01   \n",
       "month                         1.000000e+00  5.000000e+00  7.000000e+00   \n",
       "moon_illumination             0.000000e+00  1.600000e+01  5.200000e+01   \n",
       "precip_in                     0.000000e+00  0.000000e+00  0.000000e+00   \n",
       "precip_mm                     0.000000e+00  0.000000e+00  0.000000e+00   \n",
       "pressure_in                   2.796000e+01  2.983000e+01  2.992000e+01   \n",
       "pressure_mb                   9.470000e+02  1.010000e+03  1.013000e+03   \n",
       "temperature_celsius          -2.490000e+01  1.810000e+01  2.500000e+01   \n",
       "temperature_fahrenheit       -1.280000e+01  6.460000e+01  7.700000e+01   \n",
       "uv_index                      0.000000e+00  6.000000e-01  3.100000e+00   \n",
       "visibility_km                 0.000000e+00  1.000000e+01  1.000000e+01   \n",
       "visibility_miles              0.000000e+00  6.000000e+00  6.000000e+00   \n",
       "wind_degree                   1.000000e+00  8.300000e+01  1.650000e+02   \n",
       "wind_direction                         NaN           NaN           NaN   \n",
       "wind_kph                      3.600000e+00  6.500000e+00  1.120000e+01   \n",
       "wind_mph                      2.200000e+00  4.000000e+00  6.900000e+00   \n",
       "year                          2.024000e+03  2.024000e+03  2.025000e+03   \n",
       "\n",
       "                                       75%           max  missing_pct  \n",
       "air_quality_Carbon_Monoxide   5.069000e+02  3.887940e+04          0.0  \n",
       "air_quality_Nitrogen_dioxide  1.776000e+01  4.277000e+02          0.0  \n",
       "air_quality_Ozone             8.000000e+01  4.807000e+02          0.0  \n",
       "air_quality_PM10              4.630000e+01  6.037290e+03          0.0  \n",
       "air_quality_PM2.5             2.997000e+01  1.614100e+03          0.0  \n",
       "air_quality_Sulphur_dioxide   9.065000e+00  5.213300e+02          0.0  \n",
       "air_quality_gb-defra-index    3.000000e+00  1.000000e+01          0.0  \n",
       "air_quality_us-epa-index      2.000000e+00  6.000000e+00          0.0  \n",
       "cloud                         7.500000e+01  1.000000e+02          0.0  \n",
       "day                           2.300000e+01  3.100000e+01          0.0  \n",
       "feels_like_celsius            3.080000e+01  5.120000e+01          0.0  \n",
       "feels_like_fahrenheit         8.750000e+01  1.242000e+02          0.0  \n",
       "gust_kph                      2.460000e+01  2.970400e+03          0.0  \n",
       "gust_mph                      1.530000e+01  1.845700e+03          0.0  \n",
       "humidity                      8.300000e+01  1.000000e+02          0.0  \n",
       "last_updated_epoch            1.747558e+09  1.758010e+09          0.0  \n",
       "latitude                      4.040000e+01  6.415000e+01          0.0  \n",
       "longitude                     5.058000e+01  1.792200e+02          0.0  \n",
       "month                         9.000000e+00  1.200000e+01          0.0  \n",
       "moon_illumination             8.500000e+01  1.000000e+02          0.0  \n",
       "precip_in                     0.000000e+00  1.660000e+00          0.0  \n",
       "precip_mm                     3.000000e-02  4.224000e+01          0.0  \n",
       "pressure_in                   3.004000e+01  8.877000e+01          0.0  \n",
       "pressure_mb                   1.017000e+03  3.006000e+03          0.0  \n",
       "temperature_celsius           2.830000e+01  4.920000e+01          0.0  \n",
       "temperature_fahrenheit        8.300000e+01  1.206000e+02          0.0  \n",
       "uv_index                      7.000000e+00  1.630000e+01          0.0  \n",
       "visibility_km                 1.000000e+01  3.200000e+01          0.0  \n",
       "visibility_miles              6.000000e+00  1.900000e+01          0.0  \n",
       "wind_degree                   2.560000e+02  3.600000e+02          0.0  \n",
       "wind_direction                         NaN           NaN        100.0  \n",
       "wind_kph                      1.840000e+01  2.963200e+03          0.0  \n",
       "wind_mph                      1.140000e+01  1.841200e+03          0.0  \n",
       "year                          2.025000e+03  2.025000e+03          0.0  "
      ]
     },
     "metadata": {},
     "output_type": "display_data"
    },
    {
     "name": "stdout",
     "output_type": "stream",
     "text": [
      "Saved outputs/tables/global_numeric_summary.csv\n"
     ]
    }
   ],
   "source": [
    "# Cell 6: summary stats for numeric columns\n",
    "summary = df[num_cols].describe().T\n",
    "summary['missing_pct'] = (df[num_cols].isna().sum()/len(df)*100).values\n",
    "display(summary.round(3))\n",
    "summary.to_csv(\"outputs/tables/global_numeric_summary.csv\")\n",
    "print(\"Saved outputs/tables/global_numeric_summary.csv\")\n"
   ]
  },
  {
   "cell_type": "code",
   "execution_count": 9,
   "id": "810bc779",
   "metadata": {},
   "outputs": [
    {
     "data": {
      "text/html": [
       "<div>\n",
       "<style scoped>\n",
       "    .dataframe tbody tr th:only-of-type {\n",
       "        vertical-align: middle;\n",
       "    }\n",
       "\n",
       "    .dataframe tbody tr th {\n",
       "        vertical-align: top;\n",
       "    }\n",
       "\n",
       "    .dataframe thead th {\n",
       "        text-align: right;\n",
       "    }\n",
       "</style>\n",
       "<table border=\"1\" class=\"dataframe\">\n",
       "  <thead>\n",
       "    <tr style=\"text-align: right;\">\n",
       "      <th></th>\n",
       "      <th>country</th>\n",
       "      <th>air_quality_Carbon_Monoxide_mean</th>\n",
       "      <th>air_quality_Carbon_Monoxide_median</th>\n",
       "      <th>air_quality_Carbon_Monoxide_std</th>\n",
       "      <th>air_quality_Carbon_Monoxide_count</th>\n",
       "      <th>air_quality_Nitrogen_dioxide_mean</th>\n",
       "      <th>air_quality_Nitrogen_dioxide_median</th>\n",
       "      <th>air_quality_Nitrogen_dioxide_std</th>\n",
       "      <th>air_quality_Nitrogen_dioxide_count</th>\n",
       "      <th>air_quality_Ozone_mean</th>\n",
       "      <th>...</th>\n",
       "      <th>wind_kph_std</th>\n",
       "      <th>wind_kph_count</th>\n",
       "      <th>wind_mph_mean</th>\n",
       "      <th>wind_mph_median</th>\n",
       "      <th>wind_mph_std</th>\n",
       "      <th>wind_mph_count</th>\n",
       "      <th>year_mean</th>\n",
       "      <th>year_median</th>\n",
       "      <th>year_std</th>\n",
       "      <th>year_count</th>\n",
       "    </tr>\n",
       "  </thead>\n",
       "  <tbody>\n",
       "    <tr>\n",
       "      <th>0</th>\n",
       "      <td>Afghanistan</td>\n",
       "      <td>745.086066</td>\n",
       "      <td>640.10</td>\n",
       "      <td>412.784784</td>\n",
       "      <td>488</td>\n",
       "      <td>7.429969</td>\n",
       "      <td>5.475</td>\n",
       "      <td>5.802339</td>\n",
       "      <td>488</td>\n",
       "      <td>118.551434</td>\n",
       "      <td>...</td>\n",
       "      <td>7.464116</td>\n",
       "      <td>488</td>\n",
       "      <td>6.233197</td>\n",
       "      <td>4.50</td>\n",
       "      <td>4.643041</td>\n",
       "      <td>488</td>\n",
       "      <td>2024.530738</td>\n",
       "      <td>2025.0</td>\n",
       "      <td>0.499566</td>\n",
       "      <td>488</td>\n",
       "    </tr>\n",
       "    <tr>\n",
       "      <th>1</th>\n",
       "      <td>Albania</td>\n",
       "      <td>283.965471</td>\n",
       "      <td>288.60</td>\n",
       "      <td>60.435466</td>\n",
       "      <td>488</td>\n",
       "      <td>13.813238</td>\n",
       "      <td>12.395</td>\n",
       "      <td>11.016009</td>\n",
       "      <td>488</td>\n",
       "      <td>79.232172</td>\n",
       "      <td>...</td>\n",
       "      <td>5.531055</td>\n",
       "      <td>488</td>\n",
       "      <td>5.975000</td>\n",
       "      <td>4.90</td>\n",
       "      <td>3.440582</td>\n",
       "      <td>488</td>\n",
       "      <td>2024.530738</td>\n",
       "      <td>2025.0</td>\n",
       "      <td>0.499566</td>\n",
       "      <td>488</td>\n",
       "    </tr>\n",
       "    <tr>\n",
       "      <th>2</th>\n",
       "      <td>Algeria</td>\n",
       "      <td>332.758008</td>\n",
       "      <td>318.20</td>\n",
       "      <td>94.145335</td>\n",
       "      <td>487</td>\n",
       "      <td>35.864538</td>\n",
       "      <td>31.265</td>\n",
       "      <td>25.565882</td>\n",
       "      <td>487</td>\n",
       "      <td>72.146612</td>\n",
       "      <td>...</td>\n",
       "      <td>7.907728</td>\n",
       "      <td>487</td>\n",
       "      <td>8.240452</td>\n",
       "      <td>7.20</td>\n",
       "      <td>4.913204</td>\n",
       "      <td>487</td>\n",
       "      <td>2024.531828</td>\n",
       "      <td>2025.0</td>\n",
       "      <td>0.499499</td>\n",
       "      <td>487</td>\n",
       "    </tr>\n",
       "    <tr>\n",
       "      <th>3</th>\n",
       "      <td>Andorra</td>\n",
       "      <td>189.514453</td>\n",
       "      <td>186.85</td>\n",
       "      <td>30.368607</td>\n",
       "      <td>488</td>\n",
       "      <td>1.215111</td>\n",
       "      <td>0.740</td>\n",
       "      <td>1.469346</td>\n",
       "      <td>488</td>\n",
       "      <td>69.040574</td>\n",
       "      <td>...</td>\n",
       "      <td>4.018480</td>\n",
       "      <td>488</td>\n",
       "      <td>5.344877</td>\n",
       "      <td>4.90</td>\n",
       "      <td>2.502856</td>\n",
       "      <td>488</td>\n",
       "      <td>2024.530738</td>\n",
       "      <td>2025.0</td>\n",
       "      <td>0.499566</td>\n",
       "      <td>488</td>\n",
       "    </tr>\n",
       "    <tr>\n",
       "      <th>4</th>\n",
       "      <td>Angola</td>\n",
       "      <td>614.365984</td>\n",
       "      <td>532.80</td>\n",
       "      <td>321.761032</td>\n",
       "      <td>488</td>\n",
       "      <td>10.037818</td>\n",
       "      <td>8.510</td>\n",
       "      <td>6.485723</td>\n",
       "      <td>488</td>\n",
       "      <td>94.631352</td>\n",
       "      <td>...</td>\n",
       "      <td>5.438993</td>\n",
       "      <td>488</td>\n",
       "      <td>6.145492</td>\n",
       "      <td>5.25</td>\n",
       "      <td>3.381934</td>\n",
       "      <td>488</td>\n",
       "      <td>2024.530738</td>\n",
       "      <td>2025.0</td>\n",
       "      <td>0.499566</td>\n",
       "      <td>488</td>\n",
       "    </tr>\n",
       "  </tbody>\n",
       "</table>\n",
       "<p>5 rows × 137 columns</p>\n",
       "</div>"
      ],
      "text/plain": [
       "       country  air_quality_Carbon_Monoxide_mean  \\\n",
       "0  Afghanistan                        745.086066   \n",
       "1      Albania                        283.965471   \n",
       "2      Algeria                        332.758008   \n",
       "3      Andorra                        189.514453   \n",
       "4       Angola                        614.365984   \n",
       "\n",
       "   air_quality_Carbon_Monoxide_median  air_quality_Carbon_Monoxide_std  \\\n",
       "0                              640.10                       412.784784   \n",
       "1                              288.60                        60.435466   \n",
       "2                              318.20                        94.145335   \n",
       "3                              186.85                        30.368607   \n",
       "4                              532.80                       321.761032   \n",
       "\n",
       "   air_quality_Carbon_Monoxide_count  air_quality_Nitrogen_dioxide_mean  \\\n",
       "0                                488                           7.429969   \n",
       "1                                488                          13.813238   \n",
       "2                                487                          35.864538   \n",
       "3                                488                           1.215111   \n",
       "4                                488                          10.037818   \n",
       "\n",
       "   air_quality_Nitrogen_dioxide_median  air_quality_Nitrogen_dioxide_std  \\\n",
       "0                                5.475                          5.802339   \n",
       "1                               12.395                         11.016009   \n",
       "2                               31.265                         25.565882   \n",
       "3                                0.740                          1.469346   \n",
       "4                                8.510                          6.485723   \n",
       "\n",
       "   air_quality_Nitrogen_dioxide_count  air_quality_Ozone_mean  ...  \\\n",
       "0                                 488              118.551434  ...   \n",
       "1                                 488               79.232172  ...   \n",
       "2                                 487               72.146612  ...   \n",
       "3                                 488               69.040574  ...   \n",
       "4                                 488               94.631352  ...   \n",
       "\n",
       "   wind_kph_std  wind_kph_count  wind_mph_mean  wind_mph_median  wind_mph_std  \\\n",
       "0      7.464116             488       6.233197             4.50      4.643041   \n",
       "1      5.531055             488       5.975000             4.90      3.440582   \n",
       "2      7.907728             487       8.240452             7.20      4.913204   \n",
       "3      4.018480             488       5.344877             4.90      2.502856   \n",
       "4      5.438993             488       6.145492             5.25      3.381934   \n",
       "\n",
       "   wind_mph_count    year_mean  year_median  year_std  year_count  \n",
       "0             488  2024.530738       2025.0  0.499566         488  \n",
       "1             488  2024.530738       2025.0  0.499566         488  \n",
       "2             487  2024.531828       2025.0  0.499499         487  \n",
       "3             488  2024.530738       2025.0  0.499566         488  \n",
       "4             488  2024.530738       2025.0  0.499566         488  \n",
       "\n",
       "[5 rows x 137 columns]"
      ]
     },
     "metadata": {},
     "output_type": "display_data"
    },
    {
     "name": "stdout",
     "output_type": "stream",
     "text": [
      "Saved outputs/tables/country_stats.csv\n"
     ]
    }
   ],
   "source": [
    "# Cell 7: per-country stats (mean/median/std/count)\n",
    "if 'country' not in df.columns:\n",
    "    print(\"No 'country' column found. Check df.columns:\", df.columns)\n",
    "else:\n",
    "    country_stats = df.groupby('country')[num_cols].agg(['mean','median','std','count'])\n",
    "    country_stats.columns = ['_'.join(col).strip() for col in country_stats.columns.values]\n",
    "    country_stats = country_stats.reset_index()\n",
    "    country_stats.to_csv(\"outputs/tables/country_stats.csv\", index=False)\n",
    "    display(country_stats.head())\n",
    "    print(\"Saved outputs/tables/country_stats.csv\")\n"
   ]
  },
  {
   "cell_type": "code",
   "execution_count": 10,
   "id": "73e230b5",
   "metadata": {},
   "outputs": [
    {
     "data": {
      "image/png": "[encoded data removed]",
      "text/plain": [
       "<Figure size 800x600 with 2 Axes>"
      ]
     },
     "metadata": {},
     "output_type": "display_data"
    },
    {
     "name": "stdout",
     "output_type": "stream",
     "text": [
      "Saved outputs/figures/correlation_matrix.png\n"
     ]
    }
   ],
   "source": [
    "# Cell 8: correlation heatmap (matplotlib/seaborn)\n",
    "corr = df[num_cols].corr()\n",
    "plt.figure(figsize=(8,6))\n",
    "sns.heatmap(corr, annot=True, fmt=\".2f\", cmap='coolwarm', square=True)\n",
    "plt.title(\"Correlation matrix\")\n",
    "plt.tight_layout()\n",
    "plt.savefig(\"outputs/figures/correlation_matrix.png\", dpi=150)\n",
    "plt.show()\n",
    "print(\"Saved outputs/figures/correlation_matrix.png\")\n"
   ]
  },
  {
   "cell_type": "code",
   "execution_count": 11,
   "id": "ad55df4b",
   "metadata": {},
   "outputs": [
    {
     "data": {
      "application/vnd.plotly.v1+json": {
       "config": {
        "plotlyServerURL": "https://plot.ly"
       },
       "data": [
        {
         "hovertemplate": "date=%{x}<br>air_quality_Carbon_Monoxide=%{y}<extra></extra>",
         "legendgroup": "",
         "line": {
          "color": "#636efa",
          "dash": "solid"
         },
         "marker": {
          "symbol": "circle"
         },
         "mode": "lines",
         "name": "",
         "orientation": "v",
         "showlegend": false,
         "type": "scatter",
         "x": [
          "2024-05-15T00:00:00",
          "2024-06-15T00:00:00",
          "2024-07-15T00:00:00",
          "2024-08-15T00:00:00",
          "2024-09-15T00:00:00",
          "2024-10-15T00:00:00",
          "2024-11-15T00:00:00",
          "2024-12-15T00:00:00",
          "2025-01-15T00:00:00",
          "2025-02-15T00:00:00",
          "2025-03-15T00:00:00",
          "2025-04-15T00:00:00",
          "2025-05-15T00:00:00",
          "2025-06-15T00:00:00",
          "2025-07-15T00:00:00",
          "2025-08-15T00:00:00",
          "2025-09-15T00:00:00"
         ],
         "xaxis": "x",
         "y": {
          "bdata": "uFCgnq58gECS65fSY1J/QPHdvTI85ntAsSPqxD9ve0AkcSbPtnt5QKbgFU+3XH5AuRwWAnIxhEDhchw10q6CQFhDK92uVINA0ocutfDwgUDCLX+sTbiBQNTLvF1aBIBA0VO+TRWQfkDj8dE7Att9QHh+5C0Q/n1ALYtJpFJIf0DWHTF6nIKAQA==",
          "dtype": "f8"
         },
         "yaxis": "y"
        }
       ],
       "layout": {
        "legend": {
         "tracegroupgap": 0
        },
        "template": {
         "data": {
          "bar": [
           {
            "error_x": {
             "color": "#2a3f5f"
            },
            "error_y": {
             "color": "#2a3f5f"
            },
            "marker": {
             "line": {
              "color": "#E5ECF6",
              "width": 0.5
             },
             "pattern": {
              "fillmode": "overlay",
              "size": 10,
              "solidity": 0.2
             }
            },
            "type": "bar"
           }
          ],
          "barpolar": [
           {
            "marker": {
             "line": {
              "color": "#E5ECF6",
              "width": 0.5
             },
             "pattern": {
              "fillmode": "overlay",
              "size": 10,
              "solidity": 0.2
             }
            },
            "type": "barpolar"
           }
          ],
          "carpet": [
           {
            "aaxis": {
             "endlinecolor": "#2a3f5f",
             "gridcolor": "white",
             "linecolor": "white",
             "minorgridcolor": "white",
             "startlinecolor": "#2a3f5f"
            },
            "baxis": {
             "endlinecolor": "#2a3f5f",
             "gridcolor": "white",
             "linecolor": "white",
             "minorgridcolor": "white",
             "startlinecolor": "#2a3f5f"
            },
            "type": "carpet"
           }
          ],
          "choropleth": [
           {
            "colorbar": {
             "outlinewidth": 0,
             "ticks": ""
            },
            "type": "choropleth"
           }
          ],
          "contour": [
           {
            "colorbar": {
             "outlinewidth": 0,
             "ticks": ""
            },
            "colorscale": [
             [
              0,
              "#0d0887"
             ],
             [
              0.1111111111111111,
              "#46039f"
             ],
             [
              0.2222222222222222,
              "#7201a8"
             ],
             [
              0.3333333333333333,
              "#9c179e"
             ],
             [
              0.4444444444444444,
              "#bd3786"
             ],
             [
              0.5555555555555556,
              "#d8576b"
             ],
             [
              0.6666666666666666,
              "#ed7953"
             ],
             [
              0.7777777777777778,
              "#fb9f3a"
             ],
             [
              0.8888888888888888,
              "#fdca26"
             ],
             [
              1,
              "#f0f921"
             ]
            ],
            "type": "contour"
           }
          ],
          "contourcarpet": [
           {
            "colorbar": {
             "outlinewidth": 0,
             "ticks": ""
            },
            "type": "contourcarpet"
           }
          ],
          "heatmap": [
           {
            "colorbar": {
             "outlinewidth": 0,
             "ticks": ""
            },
            "colorscale": [
             [
              0,
              "#0d0887"
             ],
             [
              0.1111111111111111,
              "#46039f"
             ],
             [
              0.2222222222222222,
              "#7201a8"
             ],
             [
              0.3333333333333333,
              "#9c179e"
             ],
             [
              0.4444444444444444,
              "#bd3786"
             ],
             [
              0.5555555555555556,
              "#d8576b"
             ],
             [
              0.6666666666666666,
              "#ed7953"
             ],
             [
              0.7777777777777778,
              "#fb9f3a"
             ],
             [
              0.8888888888888888,
              "#fdca26"
             ],
             [
              1,
              "#f0f921"
             ]
            ],
            "type": "heatmap"
           }
          ],
          "histogram": [
           {
            "marker": {
             "pattern": {
              "fillmode": "overlay",
              "size": 10,
              "solidity": 0.2
             }
            },
            "type": "histogram"
           }
          ],
          "histogram2d": [
           {
            "colorbar": {
             "outlinewidth": 0,
             "ticks": ""
            },
            "colorscale": [
             [
              0,
              "#0d0887"
             ],
             [
              0.1111111111111111,
              "#46039f"
             ],
             [
              0.2222222222222222,
              "#7201a8"
             ],
             [
              0.3333333333333333,
              "#9c179e"
             ],
             [
              0.4444444444444444,
              "#bd3786"
             ],
             [
              0.5555555555555556,
              "#d8576b"
             ],
             [
              0.6666666666666666,
              "#ed7953"
             ],
             [
              0.7777777777777778,
              "#fb9f3a"
             ],
             [
              0.8888888888888888,
              "#fdca26"
             ],
             [
              1,
              "#f0f921"
             ]
            ],
            "type": "histogram2d"
           }
          ],
          "histogram2dcontour": [
           {
            "colorbar": {
             "outlinewidth": 0,
             "ticks": ""
            },
            "colorscale": [
             [
              0,
              "#0d0887"
             ],
             [
              0.1111111111111111,
              "#46039f"
             ],
             [
              0.2222222222222222,
              "#7201a8"
             ],
             [
              0.3333333333333333,
              "#9c179e"
             ],
             [
              0.4444444444444444,
              "#bd3786"
             ],
             [
              0.5555555555555556,
              "#d8576b"
             ],
             [
              0.6666666666666666,
              "#ed7953"
             ],
             [
              0.7777777777777778,
              "#fb9f3a"
             ],
             [
              0.8888888888888888,
              "#fdca26"
             ],
             [
              1,
              "#f0f921"
             ]
            ],
            "type": "histogram2dcontour"
           }
          ],
          "mesh3d": [
           {
            "colorbar": {
             "outlinewidth": 0,
             "ticks": ""
            },
            "type": "mesh3d"
           }
          ],
          "parcoords": [
           {
            "line": {
             "colorbar": {
              "outlinewidth": 0,
              "ticks": ""
             }
            },
            "type": "parcoords"
           }
          ],
          "pie": [
           {
            "automargin": true,
            "type": "pie"
           }
          ],
          "scatter": [
           {
            "fillpattern": {
             "fillmode": "overlay",
             "size": 10,
             "solidity": 0.2
            },
            "type": "scatter"
           }
          ],
          "scatter3d": [
           {
            "line": {
             "colorbar": {
              "outlinewidth": 0,
              "ticks": ""
             }
            },
            "marker": {
             "colorbar": {
              "outlinewidth": 0,
              "ticks": ""
             }
            },
            "type": "scatter3d"
           }
          ],
          "scattercarpet": [
           {
            "marker": {
             "colorbar": {
              "outlinewidth": 0,
              "ticks": ""
             }
            },
            "type": "scattercarpet"
           }
          ],
          "scattergeo": [
           {
            "marker": {
             "colorbar": {
              "outlinewidth": 0,
              "ticks": ""
             }
            },
            "type": "scattergeo"
           }
          ],
          "scattergl": [
           {
            "marker": {
             "colorbar": {
              "outlinewidth": 0,
              "ticks": ""
             }
            },
            "type": "scattergl"
           }
          ],
          "scattermap": [
           {
            "marker": {
             "colorbar": {
              "outlinewidth": 0,
              "ticks": ""
             }
            },
            "type": "scattermap"
           }
          ],
          "scattermapbox": [
           {
            "marker": {
             "colorbar": {
              "outlinewidth": 0,
              "ticks": ""
             }
            },
            "type": "scattermapbox"
           }
          ],
          "scatterpolar": [
           {
            "marker": {
             "colorbar": {
              "outlinewidth": 0,
              "ticks": ""
             }
            },
            "type": "scatterpolar"
           }
          ],
          "scatterpolargl": [
           {
            "marker": {
             "colorbar": {
              "outlinewidth": 0,
              "ticks": ""
             }
            },
            "type": "scatterpolargl"
           }
          ],
          "scatterternary": [
           {
            "marker": {
             "colorbar": {
              "outlinewidth": 0,
              "ticks": ""
             }
            },
            "type": "scatterternary"
           }
          ],
          "surface": [
           {
            "colorbar": {
             "outlinewidth": 0,
             "ticks": ""
            },
            "colorscale": [
             [
              0,
              "#0d0887"
             ],
             [
              0.1111111111111111,
              "#46039f"
             ],
             [
              0.2222222222222222,
              "#7201a8"
             ],
             [
              0.3333333333333333,
              "#9c179e"
             ],
             [
              0.4444444444444444,
              "#bd3786"
             ],
             [
              0.5555555555555556,
              "#d8576b"
             ],
             [
              0.6666666666666666,
              "#ed7953"
             ],
             [
              0.7777777777777778,
              "#fb9f3a"
             ],
             [
              0.8888888888888888,
              "#fdca26"
             ],
             [
              1,
              "#f0f921"
             ]
            ],
            "type": "surface"
           }
          ],
          "table": [
           {
            "cells": {
             "fill": {
              "color": "#EBF0F8"
             },
             "line": {
              "color": "white"
             }
            },
            "header": {
             "fill": {
              "color": "#C8D4E3"
             },
             "line": {
              "color": "white"
             }
            },
            "type": "table"
           }
          ]
         },
         "layout": {
          "annotationdefaults": {
           "arrowcolor": "#2a3f5f",
           "arrowhead": 0,
           "arrowwidth": 1
          },
          "autotypenumbers": "strict",
          "coloraxis": {
           "colorbar": {
            "outlinewidth": 0,
            "ticks": ""
           }
          },
          "colorscale": {
           "diverging": [
            [
             0,
             "#8e0152"
            ],
            [
             0.1,
             "#c51b7d"
            ],
            [
             0.2,
             "#de77ae"
            ],
            [
             0.3,
             "#f1b6da"
            ],
            [
             0.4,
             "#fde0ef"
            ],
            [
             0.5,
             "#f7f7f7"
            ],
            [
             0.6,
             "#e6f5d0"
            ],
            [
             0.7,
             "#b8e186"
            ],
            [
             0.8,
             "#7fbc41"
            ],
            [
             0.9,
             "#4d9221"
            ],
            [
             1,
             "#276419"
            ]
           ],
           "sequential": [
            [
             0,
             "#0d0887"
            ],
            [
             0.1111111111111111,
             "#46039f"
            ],
            [
             0.2222222222222222,
             "#7201a8"
            ],
            [
             0.3333333333333333,
             "#9c179e"
            ],
            [
             0.4444444444444444,
             "#bd3786"
            ],
            [
             0.5555555555555556,
             "#d8576b"
            ],
            [
             0.6666666666666666,
             "#ed7953"
            ],
            [
             0.7777777777777778,
             "#fb9f3a"
            ],
            [
             0.8888888888888888,
             "#fdca26"
            ],
            [
             1,
             "#f0f921"
            ]
           ],
           "sequentialminus": [
            [
             0,
             "#0d0887"
            ],
            [
             0.1111111111111111,
             "#46039f"
            ],
            [
             0.2222222222222222,
             "#7201a8"
            ],
            [
             0.3333333333333333,
             "#9c179e"
            ],
            [
             0.4444444444444444,
             "#bd3786"
            ],
            [
             0.5555555555555556,
             "#d8576b"
            ],
            [
             0.6666666666666666,
             "#ed7953"
            ],
            [
             0.7777777777777778,
             "#fb9f3a"
            ],
            [
             0.8888888888888888,
             "#fdca26"
            ],
            [
             1,
             "#f0f921"
            ]
           ]
          },
          "colorway": [
           "#636efa",
           "#EF553B",
           "#00cc96",
           "#ab63fa",
           "#FFA15A",
           "#19d3f3",
           "#FF6692",
           "#B6E880",
           "#FF97FF",
           "#FECB52"
          ],
          "font": {
           "color": "#2a3f5f"
          },
          "geo": {
           "bgcolor": "white",
           "lakecolor": "white",
           "landcolor": "#E5ECF6",
           "showlakes": true,
           "showland": true,
           "subunitcolor": "white"
          },
          "hoverlabel": {
           "align": "left"
          },
          "hovermode": "closest",
          "mapbox": {
           "style": "light"
          },
          "paper_bgcolor": "white",
          "plot_bgcolor": "#E5ECF6",
          "polar": {
           "angularaxis": {
            "gridcolor": "white",
            "linecolor": "white",
            "ticks": ""
           },
           "bgcolor": "#E5ECF6",
           "radialaxis": {
            "gridcolor": "white",
            "linecolor": "white",
            "ticks": ""
           }
          },
          "scene": {
           "xaxis": {
            "backgroundcolor": "#E5ECF6",
            "gridcolor": "white",
            "gridwidth": 2,
            "linecolor": "white",
            "showbackground": true,
            "ticks": "",
            "zerolinecolor": "white"
           },
           "yaxis": {
            "backgroundcolor": "#E5ECF6",
            "gridcolor": "white",
            "gridwidth": 2,
            "linecolor": "white",
            "showbackground": true,
            "ticks": "",
            "zerolinecolor": "white"
           },
           "zaxis": {
            "backgroundcolor": "#E5ECF6",
            "gridcolor": "white",
            "gridwidth": 2,
            "linecolor": "white",
            "showbackground": true,
            "ticks": "",
            "zerolinecolor": "white"
           }
          },
          "shapedefaults": {
           "line": {
            "color": "#2a3f5f"
           }
          },
          "ternary": {
           "aaxis": {
            "gridcolor": "white",
            "linecolor": "white",
            "ticks": ""
           },
           "baxis": {
            "gridcolor": "white",
            "linecolor": "white",
            "ticks": ""
           },
           "bgcolor": "#E5ECF6",
           "caxis": {
            "gridcolor": "white",
            "linecolor": "white",
            "ticks": ""
           }
          },
          "title": {
           "x": 0.05
          },
          "xaxis": {
           "automargin": true,
           "gridcolor": "white",
           "linecolor": "white",
           "ticks": "",
           "title": {
            "standoff": 15
           },
           "zerolinecolor": "white",
           "zerolinewidth": 2
          },
          "yaxis": {
           "automargin": true,
           "gridcolor": "white",
           "linecolor": "white",
           "ticks": "",
           "title": {
            "standoff": 15
           },
           "zerolinecolor": "white",
           "zerolinewidth": 2
          }
         }
        },
        "title": {
         "text": "Global monthly mean - air_quality_Carbon_Monoxide"
        },
        "xaxis": {
         "anchor": "y",
         "domain": [
          0,
          1
         ],
         "title": {
          "text": "date"
         }
        },
        "yaxis": {
         "anchor": "x",
         "domain": [
          0,
          1
         ],
         "title": {
          "text": "air_quality_Carbon_Monoxide"
         }
        }
       }
      }
     },
     "metadata": {},
     "output_type": "display_data"
    },
    {
     "name": "stdout",
     "output_type": "stream",
     "text": [
      "Saved outputs/figures/global_monthly_time_series.html\n"
     ]
    }
   ],
   "source": [
    "# Cell 9: monthly aggregation and global time series for a main variable\n",
    "main_var = 'temperature' if 'temperature' in df.columns else num_cols[0]\n",
    "monthly = df.groupby(['year','month'])[main_var].mean().reset_index().dropna()\n",
    "monthly['date'] = pd.to_datetime(monthly['year'].astype(int).astype(str) + '-' + monthly['month'].astype(int).astype(str) + '-15')\n",
    "\n",
    "fig = px.line(monthly, x='date', y=main_var, title=f'Global monthly mean - {main_var}')\n",
    "fig.show()\n",
    "fig.write_html(\"outputs/figures/global_monthly_time_series.html\")\n",
    "print(\"Saved outputs/figures/global_monthly_time_series.html\")\n"
   ]
  },
  {
   "cell_type": "code",
   "execution_count": 12,
   "id": "befd4611",
   "metadata": {},
   "outputs": [
    {
     "data": {
      "application/vnd.plotly.v1+json": {
       "config": {
        "plotlyServerURL": "https://plot.ly"
       },
       "data": [
        {
         "hovertemplate": "date=%{x}<br>air_quality_Carbon_Monoxide=%{y}<extra></extra>",
         "legendgroup": "",
         "line": {
          "color": "#636efa",
          "dash": "solid"
         },
         "marker": {
          "symbol": "circle"
         },
         "mode": "lines",
         "name": "",
         "orientation": "v",
         "showlegend": false,
         "type": "scatter",
         "x": [
          "2024-05-15T00:00:00",
          "2024-06-15T00:00:00",
          "2024-07-15T00:00:00",
          "2024-08-15T00:00:00",
          "2024-09-15T00:00:00",
          "2024-10-15T00:00:00",
          "2024-11-15T00:00:00",
          "2024-12-15T00:00:00",
          "2025-01-15T00:00:00",
          "2025-02-15T00:00:00",
          "2025-03-15T00:00:00",
          "2025-04-15T00:00:00",
          "2025-05-15T00:00:00",
          "2025-06-15T00:00:00",
          "2025-07-15T00:00:00",
          "2025-08-15T00:00:00",
          "2025-09-15T00:00:00"
         ],
         "xaxis": "x",
         "y": {
          "bdata": "BgYGBgb+j0DSeYshnduHQCVJkiTJRZJApZRSSilRkUBcj8L1KNaJQKcBbRrQ+5xAagOdNtAwqEBx9ARHzymhQFHdDtXtf6VAMzMzMzOll0Dfe++99yKWQNejcD2KxphAttZaa627kkBI4XoULlqQQJqZmZmZ4ZBA5MI+Luw2kEAAAAAAcHGRQA==",
          "dtype": "f8"
         },
         "yaxis": "y"
        }
       ],
       "layout": {
        "legend": {
         "tracegroupgap": 0
        },
        "template": {
         "data": {
          "bar": [
           {
            "error_x": {
             "color": "#2a3f5f"
            },
            "error_y": {
             "color": "#2a3f5f"
            },
            "marker": {
             "line": {
              "color": "#E5ECF6",
              "width": 0.5
             },
             "pattern": {
              "fillmode": "overlay",
              "size": 10,
              "solidity": 0.2
             }
            },
            "type": "bar"
           }
          ],
          "barpolar": [
           {
            "marker": {
             "line": {
              "color": "#E5ECF6",
              "width": 0.5
             },
             "pattern": {
              "fillmode": "overlay",
              "size": 10,
              "solidity": 0.2
             }
            },
            "type": "barpolar"
           }
          ],
          "carpet": [
           {
            "aaxis": {
             "endlinecolor": "#2a3f5f",
             "gridcolor": "white",
             "linecolor": "white",
             "minorgridcolor": "white",
             "startlinecolor": "#2a3f5f"
            },
            "baxis": {
             "endlinecolor": "#2a3f5f",
             "gridcolor": "white",
             "linecolor": "white",
             "minorgridcolor": "white",
             "startlinecolor": "#2a3f5f"
            },
            "type": "carpet"
           }
          ],
          "choropleth": [
           {
            "colorbar": {
             "outlinewidth": 0,
             "ticks": ""
            },
            "type": "choropleth"
           }
          ],
          "contour": [
           {
            "colorbar": {
             "outlinewidth": 0,
             "ticks": ""
            },
            "colorscale": [
             [
              0,
              "#0d0887"
             ],
             [
              0.1111111111111111,
              "#46039f"
             ],
             [
              0.2222222222222222,
              "#7201a8"
             ],
             [
              0.3333333333333333,
              "#9c179e"
             ],
             [
              0.4444444444444444,
              "#bd3786"
             ],
             [
              0.5555555555555556,
              "#d8576b"
             ],
             [
              0.6666666666666666,
              "#ed7953"
             ],
             [
              0.7777777777777778,
              "#fb9f3a"
             ],
             [
              0.8888888888888888,
              "#fdca26"
             ],
             [
              1,
              "#f0f921"
             ]
            ],
            "type": "contour"
           }
          ],
          "contourcarpet": [
           {
            "colorbar": {
             "outlinewidth": 0,
             "ticks": ""
            },
            "type": "contourcarpet"
           }
          ],
          "heatmap": [
           {
            "colorbar": {
             "outlinewidth": 0,
             "ticks": ""
            },
            "colorscale": [
             [
              0,
              "#0d0887"
             ],
             [
              0.1111111111111111,
              "#46039f"
             ],
             [
              0.2222222222222222,
              "#7201a8"
             ],
             [
              0.3333333333333333,
              "#9c179e"
             ],
             [
              0.4444444444444444,
              "#bd3786"
             ],
             [
              0.5555555555555556,
              "#d8576b"
             ],
             [
              0.6666666666666666,
              "#ed7953"
             ],
             [
              0.7777777777777778,
              "#fb9f3a"
             ],
             [
              0.8888888888888888,
              "#fdca26"
             ],
             [
              1,
              "#f0f921"
             ]
            ],
            "type": "heatmap"
           }
          ],
          "histogram": [
           {
            "marker": {
             "pattern": {
              "fillmode": "overlay",
              "size": 10,
              "solidity": 0.2
             }
            },
            "type": "histogram"
           }
          ],
          "histogram2d": [
           {
            "colorbar": {
             "outlinewidth": 0,
             "ticks": ""
            },
            "colorscale": [
             [
              0,
              "#0d0887"
             ],
             [
              0.1111111111111111,
              "#46039f"
             ],
             [
              0.2222222222222222,
              "#7201a8"
             ],
             [
              0.3333333333333333,
              "#9c179e"
             ],
             [
              0.4444444444444444,
              "#bd3786"
             ],
             [
              0.5555555555555556,
              "#d8576b"
             ],
             [
              0.6666666666666666,
              "#ed7953"
             ],
             [
              0.7777777777777778,
              "#fb9f3a"
             ],
             [
              0.8888888888888888,
              "#fdca26"
             ],
             [
              1,
              "#f0f921"
             ]
            ],
            "type": "histogram2d"
           }
          ],
          "histogram2dcontour": [
           {
            "colorbar": {
             "outlinewidth": 0,
             "ticks": ""
            },
            "colorscale": [
             [
              0,
              "#0d0887"
             ],
             [
              0.1111111111111111,
              "#46039f"
             ],
             [
              0.2222222222222222,
              "#7201a8"
             ],
             [
              0.3333333333333333,
              "#9c179e"
             ],
             [
              0.4444444444444444,
              "#bd3786"
             ],
             [
              0.5555555555555556,
              "#d8576b"
             ],
             [
              0.6666666666666666,
              "#ed7953"
             ],
             [
              0.7777777777777778,
              "#fb9f3a"
             ],
             [
              0.8888888888888888,
              "#fdca26"
             ],
             [
              1,
              "#f0f921"
             ]
            ],
            "type": "histogram2dcontour"
           }
          ],
          "mesh3d": [
           {
            "colorbar": {
             "outlinewidth": 0,
             "ticks": ""
            },
            "type": "mesh3d"
           }
          ],
          "parcoords": [
           {
            "line": {
             "colorbar": {
              "outlinewidth": 0,
              "ticks": ""
             }
            },
            "type": "parcoords"
           }
          ],
          "pie": [
           {
            "automargin": true,
            "type": "pie"
           }
          ],
          "scatter": [
           {
            "fillpattern": {
             "fillmode": "overlay",
             "size": 10,
             "solidity": 0.2
            },
            "type": "scatter"
           }
          ],
          "scatter3d": [
           {
            "line": {
             "colorbar": {
              "outlinewidth": 0,
              "ticks": ""
             }
            },
            "marker": {
             "colorbar": {
              "outlinewidth": 0,
              "ticks": ""
             }
            },
            "type": "scatter3d"
           }
          ],
          "scattercarpet": [
           {
            "marker": {
             "colorbar": {
              "outlinewidth": 0,
              "ticks": ""
             }
            },
            "type": "scattercarpet"
           }
          ],
          "scattergeo": [
           {
            "marker": {
             "colorbar": {
              "outlinewidth": 0,
              "ticks": ""
             }
            },
            "type": "scattergeo"
           }
          ],
          "scattergl": [
           {
            "marker": {
             "colorbar": {
              "outlinewidth": 0,
              "ticks": ""
             }
            },
            "type": "scattergl"
           }
          ],
          "scattermap": [
           {
            "marker": {
             "colorbar": {
              "outlinewidth": 0,
              "ticks": ""
             }
            },
            "type": "scattermap"
           }
          ],
          "scattermapbox": [
           {
            "marker": {
             "colorbar": {
              "outlinewidth": 0,
              "ticks": ""
             }
            },
            "type": "scattermapbox"
           }
          ],
          "scatterpolar": [
           {
            "marker": {
             "colorbar": {
              "outlinewidth": 0,
              "ticks": ""
             }
            },
            "type": "scatterpolar"
           }
          ],
          "scatterpolargl": [
           {
            "marker": {
             "colorbar": {
              "outlinewidth": 0,
              "ticks": ""
             }
            },
            "type": "scatterpolargl"
           }
          ],
          "scatterternary": [
           {
            "marker": {
             "colorbar": {
              "outlinewidth": 0,
              "ticks": ""
             }
            },
            "type": "scatterternary"
           }
          ],
          "surface": [
           {
            "colorbar": {
             "outlinewidth": 0,
             "ticks": ""
            },
            "colorscale": [
             [
              0,
              "#0d0887"
             ],
             [
              0.1111111111111111,
              "#46039f"
             ],
             [
              0.2222222222222222,
              "#7201a8"
             ],
             [
              0.3333333333333333,
              "#9c179e"
             ],
             [
              0.4444444444444444,
              "#bd3786"
             ],
             [
              0.5555555555555556,
              "#d8576b"
             ],
             [
              0.6666666666666666,
              "#ed7953"
             ],
             [
              0.7777777777777778,
              "#fb9f3a"
             ],
             [
              0.8888888888888888,
              "#fdca26"
             ],
             [
              1,
              "#f0f921"
             ]
            ],
            "type": "surface"
           }
          ],
          "table": [
           {
            "cells": {
             "fill": {
              "color": "#EBF0F8"
             },
             "line": {
              "color": "white"
             }
            },
            "header": {
             "fill": {
              "color": "#C8D4E3"
             },
             "line": {
              "color": "white"
             }
            },
            "type": "table"
           }
          ]
         },
         "layout": {
          "annotationdefaults": {
           "arrowcolor": "#2a3f5f",
           "arrowhead": 0,
           "arrowwidth": 1
          },
          "autotypenumbers": "strict",
          "coloraxis": {
           "colorbar": {
            "outlinewidth": 0,
            "ticks": ""
           }
          },
          "colorscale": {
           "diverging": [
            [
             0,
             "#8e0152"
            ],
            [
             0.1,
             "#c51b7d"
            ],
            [
             0.2,
             "#de77ae"
            ],
            [
             0.3,
             "#f1b6da"
            ],
            [
             0.4,
             "#fde0ef"
            ],
            [
             0.5,
             "#f7f7f7"
            ],
            [
             0.6,
             "#e6f5d0"
            ],
            [
             0.7,
             "#b8e186"
            ],
            [
             0.8,
             "#7fbc41"
            ],
            [
             0.9,
             "#4d9221"
            ],
            [
             1,
             "#276419"
            ]
           ],
           "sequential": [
            [
             0,
             "#0d0887"
            ],
            [
             0.1111111111111111,
             "#46039f"
            ],
            [
             0.2222222222222222,
             "#7201a8"
            ],
            [
             0.3333333333333333,
             "#9c179e"
            ],
            [
             0.4444444444444444,
             "#bd3786"
            ],
            [
             0.5555555555555556,
             "#d8576b"
            ],
            [
             0.6666666666666666,
             "#ed7953"
            ],
            [
             0.7777777777777778,
             "#fb9f3a"
            ],
            [
             0.8888888888888888,
             "#fdca26"
            ],
            [
             1,
             "#f0f921"
            ]
           ],
           "sequentialminus": [
            [
             0,
             "#0d0887"
            ],
            [
             0.1111111111111111,
             "#46039f"
            ],
            [
             0.2222222222222222,
             "#7201a8"
            ],
            [
             0.3333333333333333,
             "#9c179e"
            ],
            [
             0.4444444444444444,
             "#bd3786"
            ],
            [
             0.5555555555555556,
             "#d8576b"
            ],
            [
             0.6666666666666666,
             "#ed7953"
            ],
            [
             0.7777777777777778,
             "#fb9f3a"
            ],
            [
             0.8888888888888888,
             "#fdca26"
            ],
            [
             1,
             "#f0f921"
            ]
           ]
          },
          "colorway": [
           "#636efa",
           "#EF553B",
           "#00cc96",
           "#ab63fa",
           "#FFA15A",
           "#19d3f3",
           "#FF6692",
           "#B6E880",
           "#FF97FF",
           "#FECB52"
          ],
          "font": {
           "color": "#2a3f5f"
          },
          "geo": {
           "bgcolor": "white",
           "lakecolor": "white",
           "landcolor": "#E5ECF6",
           "showlakes": true,
           "showland": true,
           "subunitcolor": "white"
          },
          "hoverlabel": {
           "align": "left"
          },
          "hovermode": "closest",
          "mapbox": {
           "style": "light"
          },
          "paper_bgcolor": "white",
          "plot_bgcolor": "#E5ECF6",
          "polar": {
           "angularaxis": {
            "gridcolor": "white",
            "linecolor": "white",
            "ticks": ""
           },
           "bgcolor": "#E5ECF6",
           "radialaxis": {
            "gridcolor": "white",
            "linecolor": "white",
            "ticks": ""
           }
          },
          "scene": {
           "xaxis": {
            "backgroundcolor": "#E5ECF6",
            "gridcolor": "white",
            "gridwidth": 2,
            "linecolor": "white",
            "showbackground": true,
            "ticks": "",
            "zerolinecolor": "white"
           },
           "yaxis": {
            "backgroundcolor": "#E5ECF6",
            "gridcolor": "white",
            "gridwidth": 2,
            "linecolor": "white",
            "showbackground": true,
            "ticks": "",
            "zerolinecolor": "white"
           },
           "zaxis": {
            "backgroundcolor": "#E5ECF6",
            "gridcolor": "white",
            "gridwidth": 2,
            "linecolor": "white",
            "showbackground": true,
            "ticks": "",
            "zerolinecolor": "white"
           }
          },
          "shapedefaults": {
           "line": {
            "color": "#2a3f5f"
           }
          },
          "ternary": {
           "aaxis": {
            "gridcolor": "white",
            "linecolor": "white",
            "ticks": ""
           },
           "baxis": {
            "gridcolor": "white",
            "linecolor": "white",
            "ticks": ""
           },
           "bgcolor": "#E5ECF6",
           "caxis": {
            "gridcolor": "white",
            "linecolor": "white",
            "ticks": ""
           }
          },
          "title": {
           "x": 0.05
          },
          "xaxis": {
           "automargin": true,
           "gridcolor": "white",
           "linecolor": "white",
           "ticks": "",
           "title": {
            "standoff": 15
           },
           "zerolinecolor": "white",
           "zerolinewidth": 2
          },
          "yaxis": {
           "automargin": true,
           "gridcolor": "white",
           "linecolor": "white",
           "ticks": "",
           "title": {
            "standoff": 15
           },
           "zerolinecolor": "white",
           "zerolinewidth": 2
          }
         }
        },
        "title": {
         "text": "India monthly mean - air_quality_Carbon_Monoxide"
        },
        "xaxis": {
         "anchor": "y",
         "domain": [
          0,
          1
         ],
         "title": {
          "text": "date"
         }
        },
        "yaxis": {
         "anchor": "x",
         "domain": [
          0,
          1
         ],
         "title": {
          "text": "air_quality_Carbon_Monoxide"
         }
        }
       }
      }
     },
     "metadata": {},
     "output_type": "display_data"
    },
    {
     "name": "stdout",
     "output_type": "stream",
     "text": [
      "Saved outputs/figures/{sample_country}_monthly_{main_var}.html\n"
     ]
    }
   ],
   "source": [
    "# Cell 10: per-country example\n",
    "sample_country = 'India'  # change to any country present in your df\n",
    "if 'country' in df.columns and sample_country in df['country'].unique():\n",
    "    c_monthly = df[df['country']==sample_country].groupby(['year','month'])[main_var].mean().reset_index().dropna()\n",
    "    c_monthly['date'] = pd.to_datetime(c_monthly['year'].astype(int).astype(str) + '-' + c_monthly['month'].astype(int).astype(str) + '-15')\n",
    "    fig2 = px.line(c_monthly, x='date', y=main_var, title=f'{sample_country} monthly mean - {main_var}')\n",
    "    fig2.show()\n",
    "    fig2.write_html(f\"outputs/figures/{sample_country}_monthly_{main_var}.html\")\n",
    "    print(\"Saved outputs/figures/{sample_country}_monthly_{main_var}.html\")\n",
    "else:\n",
    "    print(\"Sample country not found. Available (first 20):\", df['country'].dropna().unique()[:20])\n"
   ]
  },
  {
   "cell_type": "code",
   "execution_count": null,
   "id": "45936bd6",
   "metadata": {},
   "outputs": [],
   "source": []
  },
  {
   "cell_type": "code",
   "execution_count": 13,
   "id": "74191e4e",
   "metadata": {},
   "outputs": [
    {
     "data": {
      "image/png": "[encoded data removed]",
      "text/plain": [
       "<Figure size 1200x600 with 2 Axes>"
      ]
     },
     "metadata": {},
     "output_type": "display_data"
    },
    {
     "name": "stdout",
     "output_type": "stream",
     "text": [
      "Saved outputs/figures/{country_for_heat}_seasonal_heatmap.png\n"
     ]
    }
   ],
   "source": [
    "# Cell 11: seasonal heatmap\n",
    "country_for_heat = sample_country\n",
    "if 'country' in df.columns and country_for_heat in df['country'].unique():\n",
    "    pivot = (df[df['country']==country_for_heat]\n",
    "             .groupby(['year','month'])[main_var]\n",
    "             .mean()\n",
    "             .reset_index()\n",
    "             .pivot(index='year', columns='month', values=main_var))\n",
    "    plt.figure(figsize=(12,6))\n",
    "    sns.heatmap(pivot, cmap='coolwarm')\n",
    "    plt.title(f'Seasonal heatmap ({country_for_heat}) - {main_var}')\n",
    "    plt.savefig(f\"outputs/figures/{country_for_heat}_seasonal_heatmap.png\", dpi=150)\n",
    "    plt.show()\n",
    "    print(\"Saved outputs/figures/{country_for_heat}_seasonal_heatmap.png\")\n",
    "else:\n",
    "    print(\"Country missing for heatmap.\")\n"
   ]
  },
  {
   "cell_type": "code",
   "execution_count": 14,
   "id": "5a6a74e5",
   "metadata": {},
   "outputs": [],
   "source": [
    "# Cell 12: detect extremes\n",
    "# precipitation extremes (top 1% by value)\n",
    "if 'precipitation' in df.columns:\n",
    "    p99 = df['precipitation'].quantile(0.99)\n",
    "    extreme_precip = df[df['precipitation'] > p99].sort_values('precipitation', ascending=False)\n",
    "    extreme_precip.to_csv(\"outputs/tables/extreme_precip_top1pct.csv\", index=False)\n",
    "    print(\"Saved outputs/tables/extreme_precip_top1pct.csv (threshold: {:.2f})\".format(p99))\n",
    "\n",
    "# temperature extremes by z-score (> 3 sigma)\n",
    "if 'temperature' in df.columns:\n",
    "    df['temp_z'] = (df['temperature'] - df['temperature'].mean())/df['temperature'].std()\n",
    "    extreme_temp = df[df['temp_z'].abs() > 3].sort_values('temp_z', key=lambda s: s.abs(), ascending=False)\n",
    "    extreme_temp.to_csv(\"outputs/tables/extreme_temp_3sigma.csv\", index=False)\n",
    "    print(\"Saved outputs/tables/extreme_temp_3sigma.csv (3-sigma rule)\")\n"
   ]
  }
 ],
 "metadata": {
  "kernelspec": {
   "display_name": "Python 3",
   "language": "python",
   "name": "python3"
  },
  "language_info": {
   "codemirror_mode": {
    "name": "ipython",
    "version": 3
   },
   "file_extension": ".py",
   "mimetype": "text/x-python",
   "name": "python",
   "nbconvert_exporter": "python",
   "pygments_lexer": "ipython3",
   "version": "3.13.4"
  }
 },
 "nbformat": 4,
 "nbformat_minor": 5
}
